{
 "cells": [
  {
   "cell_type": "code",
   "execution_count": null,
   "id": "876cd453",
   "metadata": {},
   "outputs": [],
   "source": [
    "# Use python to pull some events form the opensearch\n",
    "# Install Neo4j in ubuntu \n",
    "# Parse the opensearch retrived data and store these data in the Graph database\n",
    "# retrive the data in the Graph (UI)"
   ]
  },
  {
   "cell_type": "code",
   "execution_count": 139,
   "id": "14c3b8f7",
   "metadata": {},
   "outputs": [
    {
     "name": "stdout",
     "output_type": "stream",
     "text": [
      "Requirement already satisfied: opensearch-py in c:\\users\\navee\\appdata\\local\\programs\\python\\python312\\lib\\site-packages (3.0.0)\n",
      "Requirement already satisfied: urllib3!=2.2.0,!=2.2.1,<3,>=1.26.19 in c:\\users\\navee\\appdata\\local\\programs\\python\\python312\\lib\\site-packages (from opensearch-py) (2.5.0)\n",
      "Requirement already satisfied: requests<3.0.0,>=2.32.0 in c:\\users\\navee\\appdata\\local\\programs\\python\\python312\\lib\\site-packages (from opensearch-py) (2.32.4)\n",
      "Requirement already satisfied: python-dateutil in c:\\users\\navee\\appdata\\local\\programs\\python\\python312\\lib\\site-packages (from opensearch-py) (2.9.0.post0)\n",
      "Requirement already satisfied: certifi>=2024.07.04 in c:\\users\\navee\\appdata\\local\\programs\\python\\python312\\lib\\site-packages (from opensearch-py) (2025.8.3)\n",
      "Requirement already satisfied: Events in c:\\users\\navee\\appdata\\local\\programs\\python\\python312\\lib\\site-packages (from opensearch-py) (0.5)\n",
      "Requirement already satisfied: charset_normalizer<4,>=2 in c:\\users\\navee\\appdata\\local\\programs\\python\\python312\\lib\\site-packages (from requests<3.0.0,>=2.32.0->opensearch-py) (3.3.2)\n",
      "Requirement already satisfied: idna<4,>=2.5 in c:\\users\\navee\\appdata\\local\\programs\\python\\python312\\lib\\site-packages (from requests<3.0.0,>=2.32.0->opensearch-py) (3.6)\n",
      "Requirement already satisfied: six>=1.5 in c:\\users\\navee\\appdata\\local\\programs\\python\\python312\\lib\\site-packages (from python-dateutil->opensearch-py) (1.16.0)\n"
     ]
    },
    {
     "name": "stderr",
     "output_type": "stream",
     "text": [
      "\n",
      "[notice] A new release of pip is available: 24.1.2 -> 25.2\n",
      "[notice] To update, run: python.exe -m pip install --upgrade pip\n"
     ]
    },
    {
     "name": "stdout",
     "output_type": "stream",
     "text": [
      "Collecting neo4j\n",
      "  Downloading neo4j-5.28.2-py3-none-any.whl.metadata (5.9 kB)\n",
      "Requirement already satisfied: pytz in c:\\users\\navee\\appdata\\local\\programs\\python\\python312\\lib\\site-packages (from neo4j) (2025.2)\n",
      "Downloading neo4j-5.28.2-py3-none-any.whl (313 kB)\n",
      "   ---------------------------------------- 0.0/313.2 kB ? eta -:--:--\n",
      "   ---------------------------------------- 313.2/313.2 kB 9.8 MB/s eta 0:00:00\n",
      "Installing collected packages: neo4j\n",
      "Successfully installed neo4j-5.28.2\n"
     ]
    },
    {
     "name": "stderr",
     "output_type": "stream",
     "text": [
      "\n",
      "[notice] A new release of pip is available: 24.1.2 -> 25.2\n",
      "[notice] To update, run: python.exe -m pip install --upgrade pip\n"
     ]
    }
   ],
   "source": [
    "!pip install opensearch-py\n",
    "!pip install neo4j"
   ]
  },
  {
   "cell_type": "code",
   "execution_count": null,
   "id": "b3009242",
   "metadata": {},
   "outputs": [],
   "source": [
    "from opensearchpy import OpenSearch\n",
    "import json\n",
    "\n",
    "host = 'coreserver'\n",
    "port = 9200\n",
    "auth = ('admin', 'kBFXbci#bf6jB9TAe8^fts') # For testing only. Don't store credentials in code.\n",
    "\n",
    "client = OpenSearch(\n",
    "    hosts = [{'host': host, 'port': port}],\n",
    "    http_compress = True, # enables gzip compression for request bodies\n",
    "    http_auth = auth,\n",
    "    use_ssl = False,\n",
    "    verify_certs = False,\n",
    "    ssl_assert_hostname = False,\n",
    "    ssl_show_warn = False\n",
    ")"
   ]
  },
  {
   "cell_type": "code",
   "execution_count": 75,
   "id": "066a9009",
   "metadata": {},
   "outputs": [
    {
     "name": "stdout",
     "output_type": "stream",
     "text": [
      "Number of documents received: {'value': 2547, 'relation': 'eq'}\n",
      "Number of documents received in this query: 1000\n",
      "Number of documents received in this query: 1000\n",
      "Number of documents received in this query: 547\n"
     ]
    }
   ],
   "source": [
    "# Extract All process create events (sysmon: process_create) \n",
    "# TODO: now we are pulling all data, but we pull and injest data with 1 or two minute windows\n",
    "\n",
    "query = {\n",
    "  'size': 1,\n",
    "  'from': 0,\n",
    "  \"query\": {\n",
    "    \"query_string\": {\n",
    "       \"query\": \"EventID:'1' AND ProviderName:'Microsoft-Windows-Sysmon'\"\n",
    "     }\n",
    "  }\n",
    "}\n",
    "\n",
    "response = client.search(\n",
    "    body = query,\n",
    "    index = 'fluentd.events.*'\n",
    ")\n",
    "\n",
    "print(f\"Number of documents received: {response['hits']['total']}\")\n",
    "\n",
    "max_records = response['hits']['total'][\"value\"]\n",
    "\n",
    "step = 1000\n",
    "\n",
    "all_responses = []\n",
    "\n",
    "for i in range(0, max_records, step ):\n",
    "    query = {\n",
    "      'size': step,\n",
    "      'from': i,\n",
    "      \"query\": {\n",
    "        \"query_string\": {\n",
    "          \"query\": \"EventID:'1' AND ProviderName:'Microsoft-Windows-Sysmon'\"\n",
    "        }\n",
    "      }\n",
    "    }\n",
    "\n",
    "    response = client.search(\n",
    "        body = query,\n",
    "        index = 'fluentd.events.*'\n",
    "    )\n",
    "    all_responses.append(response)\n",
    "    print(f\"Number of documents received in this query: {len(response['hits']['hits'])}\")\n"
   ]
  },
  {
   "cell_type": "code",
   "execution_count": null,
   "id": "b62e1307",
   "metadata": {},
   "outputs": [],
   "source": [
    "def strip_paranthesis(id_):\n",
    "    return id_.strip(\"}\").strip(\"{\")\n",
    "\n",
    "data_ = []\n",
    "for resp in all_responses:\n",
    "    for item in response[\"hits\"][\"hits\"]:\n",
    "        source_ = item['_source']\n",
    "        Parse_data = {}\n",
    "        for key_ in source_.keys():\n",
    "            if key_ in (\"ProcessGuid\",\"LogonGuid\",\"ParentProcessGuid\"):\n",
    "                Parse_data[key_] = strip_paranthesis(source_[key_]) \n",
    "                continue\n",
    "            if key_ == \"Hashes\":\n",
    "                for hash_ in source_[key_].split(','):\n",
    "                    Parse_data[hash_.split(\"=\")[0]] = hash_.split(\"=\")[1]\n",
    "                continue\n",
    "            Parse_data[key_] = source_[key_] \n",
    "        data_.append(Parse_data)\n"
   ]
  },
  {
   "cell_type": "code",
   "execution_count": 108,
   "id": "0b4050c9",
   "metadata": {},
   "outputs": [],
   "source": [
    "event = data_[0]"
   ]
  },
  {
   "cell_type": "code",
   "execution_count": null,
   "id": "8ce93b22",
   "metadata": {},
   "outputs": [],
   "source": [
    "# initial execution\n",
    "\n",
    "# Add a constraint\n",
    "CREATE CONSTRAINT process_ProcessGuid IF NOT EXISTS FOR (p:Process) REQUIRE p.ProcessGuid IS UNIQUE;\n",
    "CREATE CONSTRAINT user_LogonGuid IF NOT EXISTS FOR (p:User) REQUIRE p.LogonGuid IS UNIQUE;\n",
    "CREATE CONSTRAINT computer_DeviceName IF NOT EXISTS FOR (c:Computer) REQUIRE c.DeviceName IS UNIQUE;\n",
    "CREATE CONSTRAINT image_HashSHA256 IF NOT EXISTS FOR (i:Image) REQUIRE i.HashSHA256 IS UNIQUE;"
   ]
  },
  {
   "cell_type": "code",
   "execution_count": 111,
   "id": "a2f12066",
   "metadata": {},
   "outputs": [
    {
     "data": {
      "text/plain": [
       "{'ProviderName': 'Microsoft-Windows-Sysmon',\n",
       " 'ProviderGUID': '',\n",
       " 'EventID': '1',\n",
       " 'Level': '4',\n",
       " 'Task': '1',\n",
       " 'Opcode': '0',\n",
       " 'Keywords': '0x8000000000000000',\n",
       " 'TimeCreated': '2025/09/10 12:31:40.133822200',\n",
       " 'EventRecordID': '32441',\n",
       " 'ActivityID': '',\n",
       " 'RelatedActivityID': '',\n",
       " 'ProcessID': '896',\n",
       " 'ThreadID': '12148',\n",
       " 'Channel': 'Microsoft-Windows-Sysmon/Operational',\n",
       " 'Computer': 'DESKTOP-K05T3EJ',\n",
       " 'UserID': 'S-1-5-18',\n",
       " 'User': 'DESKTOP-K05T3EJ\\\\Sec User',\n",
       " 'Version': '5',\n",
       " 'Description': 'Host Process for Windows Tasks',\n",
       " 'EventData': ['-',\n",
       "  '2025-09-10 12:31:40.124',\n",
       "  '{B2A55EDD-6FAC-68C1-DB05-000000000900}',\n",
       "  '4972',\n",
       "  'C:\\\\Windows\\\\System32\\\\taskhostw.exe',\n",
       "  '10.0.26100.4768 (WinBuild.160101.0800)',\n",
       "  'Host Process for Windows Tasks',\n",
       "  'Microsoft® Windows® Operating System',\n",
       "  'Microsoft Corporation',\n",
       "  'taskhostw.exe',\n",
       "  'taskhostw.exe',\n",
       "  'C:\\\\WINDOWS\\\\system32\\\\',\n",
       "  'DESKTOP-K05T3EJ\\\\Sec User',\n",
       "  '{B2A55EDD-258E-68C0-1624-600100000000}',\n",
       "  '0x0000000001602416',\n",
       "  '1',\n",
       "  'Medium',\n",
       "  'MD5=6A7B0E960579EFB677AEC4233BC8B1A1,SHA256=7F1803B2B12F8DBA1BA945C1CA8482AACAC377984A9ECDA4D5095F1F0AF7E7D9,IMPHASH=2196268E7A2880E3ADC74481297D0C4B',\n",
       "  '{B2A55EDD-3C7F-68BD-1B00-000000000900}',\n",
       "  '1404',\n",
       "  'C:\\\\Windows\\\\System32\\\\svchost.exe',\n",
       "  'C:\\\\WINDOWS\\\\system32\\\\svchost.exe -k netsvcs -p -s Schedule',\n",
       "  'NT AUTHORITY\\\\SYSTEM'],\n",
       " 'RuleName': '-',\n",
       " 'UtcTime': '2025-09-10 12:31:40.124',\n",
       " 'ProcessGuid': 'b2a55edd-6fac-68c1-db05-000000000900',\n",
       " 'ProcessId': '4972',\n",
       " 'Image': 'C:\\\\Windows\\\\System32\\\\taskhostw.exe',\n",
       " 'FileVersion': '10.0.26100.4768 (WinBuild.160101.0800)',\n",
       " 'Product': 'Microsoft® Windows® Operating System',\n",
       " 'Company': 'Microsoft Corporation',\n",
       " 'OriginalFileName': 'taskhostw.exe',\n",
       " 'CommandLine': 'taskhostw.exe',\n",
       " 'CurrentDirectory': 'C:\\\\WINDOWS\\\\system32\\\\',\n",
       " 'LogonGuid': 'b2a55edd-258e-68c0-1624-600100000000',\n",
       " 'LogonId': '0x1602416',\n",
       " 'TerminalSessionId': '1',\n",
       " 'IntegrityLevel': 'Medium',\n",
       " 'MD5': '6A7B0E960579EFB677AEC4233BC8B1A1',\n",
       " 'SHA256': '7F1803B2B12F8DBA1BA945C1CA8482AACAC377984A9ECDA4D5095F1F0AF7E7D9',\n",
       " 'IMPHASH': '2196268E7A2880E3ADC74481297D0C4B',\n",
       " 'ParentProcessGuid': 'b2a55edd-3c7f-68bd-1b00-000000000900',\n",
       " 'ParentProcessId': '1404',\n",
       " 'ParentImage': 'C:\\\\Windows\\\\System32\\\\svchost.exe',\n",
       " 'ParentCommandLine': 'C:\\\\WINDOWS\\\\system32\\\\svchost.exe -k netsvcs -p -s Schedule',\n",
       " 'ParentUser': 'NT AUTHORITY\\\\SYSTEM',\n",
       " '@timestamp': '2025-09-10T12:31:41.442046200+00:00'}"
      ]
     },
     "execution_count": 111,
     "metadata": {},
     "output_type": "execute_result"
    }
   ],
   "source": [
    "event"
   ]
  },
  {
   "cell_type": "code",
   "execution_count": 141,
   "id": "1958ad60",
   "metadata": {},
   "outputs": [],
   "source": [
    "# neo4j connectivity\n",
    "from neo4j import GraphDatabase\n",
    "URI = \"neo4j://localhost\"\n",
    "AUTH = (\"neo4j\", \"neo4j\")\n",
    "\n",
    "# with GraphDatabase.driver(URI, auth=AUTH) as driver:\n",
    "#     driver.verify_connectivity()"
   ]
  },
  {
   "cell_type": "code",
   "execution_count": 161,
   "id": "a3faacb2",
   "metadata": {},
   "outputs": [
    {
     "name": "stdout",
     "output_type": "stream",
     "text": [
      "MERGE (computer_c48d2468_d70b_4454_b3e6_0b502c0a405a:Computer { Computer:'DESKTOP-K05T3EJ'}) ON CREATE SET computer_c48d2468_d70b_4454_b3e6_0b502c0a405a.title='DESKTOP-K05T3EJ'\n",
      "MERGE (user_c48d2468_d70b_4454_b3e6_0b502c0a405a:User { LogonGuid:'b2a55edd-258e-68c0-1624-600100000000'}) ON CREATE SET user_c48d2468_d70b_4454_b3e6_0b502c0a405a.title='DESKTOP-K05T3EJ\\Sec User', user_c48d2468_d70b_4454_b3e6_0b502c0a405a.UserID='S-1-5-18', user_c48d2468_d70b_4454_b3e6_0b502c0a405a.LogonId='0x1602416'\n"
     ]
    }
   ],
   "source": [
    "# Create nodes for a single event\n",
    "import random\n",
    "import uuid\n",
    "\n",
    "# print( random.ran)\n",
    "event_id = \"c48d2468_d70b_4454_b3e6_0b502c0a405a\" #str(uuid.uuid4()).replace(\"-\",\"_\")\n",
    "\n",
    "# template\n",
    "# MERGE (computer:User {uid:'S-1-5-20'}) On CREATE SET user.title='NT AUTHORITY\\\\SYSTEM'\n",
    "user_key=f\"user_{event_id}\"\n",
    "computer_key=f\"computer_{event_id}\"\n",
    "\n",
    "def get_value(v):\n",
    "    return f\"'{v}'\"\n",
    "\n",
    "def set_value_str(key_, event, title, other_fields):\n",
    "    return f\"{key_}.title='{event[title]}', \"+\", \".join([ f\"{key_}.{set_field}='{event[set_field]}'\" for set_field in other_fields])\n",
    "\n",
    "print(f\"MERGE ({computer_key}:Computer {{ Computer:{get_value(event['Computer'])}}}) ON CREATE SET {computer_key}.title={get_value(event['Computer'])}\")\n",
    "print(f\"MERGE ({user_key}:User {{ LogonGuid:{get_value(event[\"LogonGuid\"])}}}) ON CREATE SET {set_value_str(user_key, event, title=\"User\" , other_fields=(\"UserID\",\"LogonId\"))}\")\n",
    "\n"
   ]
  },
  {
   "cell_type": "code",
   "execution_count": null,
   "id": "7d7df083",
   "metadata": {},
   "outputs": [
    {
     "name": "stdout",
     "output_type": "stream",
     "text": [
      "user_c48d2468_d70b_4454_b3e6_0b502c0a405a\n",
      "user_c48d2468_d70b_4454_b3e6_0b502c0a405a.User='DESKTOP-K05T3EJ\\Sec User',user_c48d2468_d70b_4454_b3e6_0b502c0a405a.UserID='S-1-5-18',user_c48d2468_d70b_4454_b3e6_0b502c0a405a.LogonId='0x1602416'\n"
     ]
    }
   ],
   "source": [
    "# print(user_key)\n",
    "\n",
    "#user_c48d2468_d70b_4454_b3e6_0b502c0a405a.UserID='S-1-5-18',      user_c48d2468_d70b_4454_b3e6_0b502c0a405a.LogonId='0x1602416'\n",
    "\n",
    "\n",
    "print()"
   ]
  },
  {
   "cell_type": "code",
   "execution_count": null,
   "id": "46aa75a7",
   "metadata": {},
   "outputs": [],
   "source": [
    "# create nodes when a event is created.\n",
    "# Create all the edges when a event is created.  \n",
    "\n",
    "# nodes\n",
    "    # Computer \n",
    "        # Computer (primary unique) : title\n",
    "    # user\n",
    "        # LogonGuid (primary unique)\n",
    "        # UserID \n",
    "        # User :title\n",
    "        # LogonId\n",
    "    # process\n",
    "        # ProcessGuid (primary unique), if it is a parent process, use ParentProcessGuid\n",
    "        # ProcessId : title, if it is a parent pocess, use ParentProcessId\n",
    "        # IntegrityLevel\n",
    "        # CurrentDirectory\n",
    "        # CommandLine\n",
    "        # UtcTime\n",
    "    # Image\n",
    "        # Hash-sha256 (primary unique)\n",
    "        # FilePath\n",
    "        # Hash-md5\n",
    "        # Hash-IMPHASH\n",
    "        # OriginalFileName :title\n",
    "        # FileVersion\n",
    "        # Product\n",
    "        # Company\n",
    "\n",
    "# edges\n",
    "    # created \n",
    "        # time\n",
    "    # logged_in\n",
    "        # LogonGuid \n",
    "        # LogonId\n",
    "    # process_image\n",
    "\n",
    "# semantics\n",
    "\n",
    "user created process\n",
    "user logged_in Computer \n",
    "process1 created process 2\n",
    "process created_at computer\n",
    "process  has_image image\n",
    "\n",
    "\n",
    "# ContextComputer= source_['Computer']\n",
    "# TimeCreated = source_['TimeCreated']\n",
    "# UserID = source_['UserID']\n",
    "# ProcessID = source_['ProcessID']\n",
    "\n",
    "\n",
    "exe_properties = [\"OriginalFileName\",\"Product\",\"Company\",\"FileVersion\",\"Image\"]\n",
    "user_properties = [\"UserID\"]\n",
    "process_properties = [\"ProcessGuid\",\"CommandLine\",\"CurrentDirectory\",\"IntegrityLevel\"]\n",
    "\n"
   ]
  },
  {
   "cell_type": "code",
   "execution_count": 53,
   "id": "9ea7c626",
   "metadata": {},
   "outputs": [
    {
     "data": {
      "text/plain": [
       "4"
      ]
     },
     "execution_count": 53,
     "metadata": {},
     "output_type": "execute_result"
    }
   ],
   "source": [
    "len(data_[0])"
   ]
  },
  {
   "cell_type": "code",
   "execution_count": 48,
   "id": "44a3a9dc",
   "metadata": {},
   "outputs": [
    {
     "name": "stdout",
     "output_type": "stream",
     "text": [
      "User: NT AUTHORITY\\SYSTEM -> created -> Process: {b2a55edd-3679-68c0-5e05-000000000900}+10524\n"
     ]
    }
   ],
   "source": [
    "# User created Process\n",
    "print(f\"User: {Parse_data['User']} -> created -> Process: {Parse_data[\"ProcessGuid\"]}+{Parse_data['ProcessId']}\")"
   ]
  },
  {
   "cell_type": "code",
   "execution_count": null,
   "id": "f3c66626",
   "metadata": {},
   "outputs": [],
   "source": []
  },
  {
   "cell_type": "code",
   "execution_count": null,
   "id": "1058dba9",
   "metadata": {},
   "outputs": [],
   "source": [
    "# retrive the data \"process create\" sysmon event\n",
    "# parse and decide which data to add in the graph\n",
    "# and construct a graph query to insert the data as nodes and edges \n",
    "    # use this file to create a relationships https://github.com/OTRF/OSSEM-DM/blob/main/use-cases/mitre_attack/attack_events_mapping.csv\n"
   ]
  },
  {
   "cell_type": "code",
   "execution_count": null,
   "id": "d5780058",
   "metadata": {},
   "outputs": [
    {
     "ename": "SyntaxError",
     "evalue": "invalid syntax (3525626900.py, line 2)",
     "output_type": "error",
     "traceback": [
      "\u001b[1;36m  Cell \u001b[1;32mIn[49], line 2\u001b[1;36m\u001b[0m\n\u001b[1;33m    CREATE CONSTRAINT process_guid IF NOT EXISTS FOR (p:Process) REQUIRE p.guid IS UNIQUE;\u001b[0m\n\u001b[1;37m           ^\u001b[0m\n\u001b[1;31mSyntaxError\u001b[0m\u001b[1;31m:\u001b[0m invalid syntax\n"
     ]
    }
   ],
   "source": [
    "\n",
    "\n",
    "\n",
    "\n",
    "#To create a relevant node\n",
    "\n",
    "# create process node\n",
    "MERGE (Pid:Process {guid:\"{b2a55edd-3679-68c0-5e05-000000000910}\"}) ON CREATE SET Pid.OriginalFileName=\"taskhostw.exe\"=2000, Pid.Product='Microsoft® Windows® Operating System',\n",
    "Pid.title=\"taskhostw.exe\",\n",
    "Pid.Company='Microsoft Corporation',\n",
    "Pid.Image='C:\\\\Windows\\\\System32\\\\taskhostw.exe'\n",
    "\n",
    "#create user node, if we try to create another node with same uid: it will be ignored, and as we set the uid as unique\n",
    "MERGE (user:User {uid:'S-1-5-20'}) On CREATE SET user.title='NT AUTHORITY\\\\SYSTEM'\n",
    "\n",
    "#edge\n",
    "MERGE (user)-[:CREATED]->(Pid)\n",
    "\n",
    "#show the relationships in graph\n",
    "MATCH (user:User {uid:'S-1-5-20'})\n",
    "MATCH path = (user)-[:CREATED]->(p)\n",
    "RETURN path;\n",
    "\n",
    "# # or to view all the user's\n",
    "# MATCH (user)\n",
    "# MATCH path = (user)-[:CREATED]->(p)\n",
    "# RETURN path;\n",
    "\n",
    "Merge (ParetProcess)-[:ParentProcess] ->[pid]\n",
    "\n",
    "MATCH (process:Process)\n",
    "MATCH path= (user)-[:CREATED]->(process)\n",
    "RETURN path;"
   ]
  },
  {
   "cell_type": "code",
   "execution_count": null,
   "id": "fe4bac74",
   "metadata": {},
   "outputs": [],
   "source": [
    "MERGE (user:User {uid:'S-1-5-19'})-[:CREATED]->(proces:Process {guid:\"{b2a55edd-3679-68c0-5e05-000000000905}\"})\n",
    "\n",
    "#this actually creates a two new nodes and edges between them. \n",
    "\n",
    "MATCH (user:User {uid:'S-1-5-19'})\n",
    "MATCH path = (user)-[:CREATED]->(p)\n",
    "RETURN path;\n",
    "\n",
    "#here (p) means, whatevery nodes with Created lable by this user.\n"
   ]
  },
  {
   "cell_type": "code",
   "execution_count": null,
   "id": "3babb09e",
   "metadata": {},
   "outputs": [],
   "source": []
  }
 ],
 "metadata": {
  "kernelspec": {
   "display_name": "Python 3",
   "language": "python",
   "name": "python3"
  },
  "language_info": {
   "codemirror_mode": {
    "name": "ipython",
    "version": 3
   },
   "file_extension": ".py",
   "mimetype": "text/x-python",
   "name": "python",
   "nbconvert_exporter": "python",
   "pygments_lexer": "ipython3",
   "version": "3.12.2"
  }
 },
 "nbformat": 4,
 "nbformat_minor": 5
}
