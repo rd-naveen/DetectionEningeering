{
 "cells": [
  {
   "cell_type": "code",
   "execution_count": 7,
   "id": "0e4fb089",
   "metadata": {},
   "outputs": [],
   "source": [
    "import requests\n",
    "from requests.auth import HTTPBasicAuth"
   ]
  },
  {
   "cell_type": "code",
   "execution_count": 17,
   "id": "f0bc0b8d",
   "metadata": {},
   "outputs": [],
   "source": [
    "# POST /_plugins/_security_analytics/rules/_search?pre_packaged=false\n",
    "\n",
    "post_body = \"\"\"{\n",
    "  \"size\": 30,\n",
    "  \"query\": {\n",
    "    \"nested\": {\n",
    "      \"path\": \"detector\",\n",
    "      \"query\": {\n",
    "        \"bool\": {\n",
    "          \"must\": [\n",
    "            {\n",
    "              \"match\": {\n",
    "                \"detector.name\": \"Sysmon Detector\"\n",
    "              }\n",
    "            }\n",
    "          ]\n",
    "        }\n",
    "      }\n",
    "    }\n",
    "  }\n",
    "}\"\"\"\n",
    "\n",
    "res = requests.post(url=\"http://coreserver:5601/_plugins/_security_analytics/detectors/_search\",data=post_body, auth=HTTPBasicAuth(\"admin\", \"kBFXbci#bf6jB9TAe8^fts\"))\n"
   ]
  },
  {
   "cell_type": "code",
   "execution_count": 19,
   "id": "5b7c1abb",
   "metadata": {},
   "outputs": [
    {
     "data": {
      "text/plain": [
       "'{\"statusCode\":400,\"error\":\"Bad Request\",\"message\":\"Request must contain the osd-xsrf header.\"}'"
      ]
     },
     "execution_count": 19,
     "metadata": {},
     "output_type": "execute_result"
    }
   ],
   "source": [
    "res.text"
   ]
  },
  {
   "cell_type": "code",
   "execution_count": null,
   "id": "d1fa5ca2",
   "metadata": {},
   "outputs": [],
   "source": [
    "# get all the detectors\n",
    "\n",
    "POST /_plugins/_security_analytics/detectors/_search\n",
    "{\n",
    "  \"size\": 30,\n",
    "  \"query\": {\n",
    "    \"exists\": {\n",
    "      \"field\": \"_id\"\n",
    "    }\n",
    "  }\n",
    "}\n",
    "\n",
    "# get only given detector\n",
    "POST /_plugins/_security_analytics/detectors/_search\n",
    "{\n",
    "  \"size\": 30,\n",
    "  \"query\": {\n",
    "    \"match\": {\n",
    "      \"_id\":\"IgK1LpkBTBofSa-VAUQn\"\n",
    "    }\n",
    "  }\n",
    "}"
   ]
  },
  {
   "cell_type": "code",
   "execution_count": null,
   "id": "74dbeb1a",
   "metadata": {},
   "outputs": [],
   "source": [
    "#search log types\n",
    "\n",
    "POST /_plugins/_security_analytics/logtype/_search\n",
    "{\n",
    "    \"query\": {\n",
    "        \"match\": {\n",
    "          \"name\": \"sysmon-events\"\n",
    "        }\n",
    "    }\n",
    "}\n",
    "\n",
    "POST /_plugins/_security_analytics/logtype/_search\n",
    "{\n",
    "    \"query\": {\n",
    "        \"match_all\": {}\n",
    "    }\n",
    "}\n",
    "\n",
    "\n",
    "POST /_plugins/_security_analytics/logtype/_search\n",
    "{\n",
    "    \"query\": {\n",
    "        \"match_phrase_prefix\": {\n",
    "          \"name\": \"sysmon\"\n",
    "        }\n",
    "    }\n",
    "}\n",
    "\n",
    "\n",
    "POST /_plugins/_security_analytics/logtype\n",
    "{\n",
    "  \"description\": \"custom-log-type-desc\",\n",
    "  \"name\": \"custom-log-type4\",\n",
    "  \"source\": \"Custom\"\n",
    "}"
   ]
  }
 ],
 "metadata": {
  "kernelspec": {
   "display_name": "Python 3",
   "language": "python",
   "name": "python3"
  },
  "language_info": {
   "codemirror_mode": {
    "name": "ipython",
    "version": 3
   },
   "file_extension": ".py",
   "mimetype": "text/x-python",
   "name": "python",
   "nbconvert_exporter": "python",
   "pygments_lexer": "ipython3",
   "version": "3.12.2"
  }
 },
 "nbformat": 4,
 "nbformat_minor": 5
}
