{
 "cells": [
  {
   "cell_type": "code",
   "execution_count": 57,
   "id": "08f84930",
   "metadata": {},
   "outputs": [],
   "source": [
    "log_= \"\"\"Sysmon config state changed:\\r\\nUtcTime: 2025-09-07 08:07:09.988\\r\\nConfiguration: C:\\\\Users\\\\Sec User\\\\Downloads\\\\Sysmon\\\\sysmonconfig-export.xml\\r\\nConfigurationFileHash: SHA256=055FEBC600E6D7448CDF3812307275912927A62B1F94D0D933B64B294BC87162\"\"\""
   ]
  },
  {
   "cell_type": "code",
   "execution_count": 58,
   "id": "9b894801",
   "metadata": {},
   "outputs": [],
   "source": [
    "line = 0\n",
    "pattern_ = \"\"\n",
    "count = len(log_.split(\"\\r\\n\"))\n",
    "for var_ in log_.split(\"\\r\\n\"):\n",
    "    line +=1\n",
    "    if line == \"\":\n",
    "        continue\n",
    "    if line == 1:\n",
    "        pattern_ += f\"{var_}(?:\\\\r?\\\\n)\"\n",
    "        continue\n",
    "    pattern_ += f\"(?:{var_.split(\":\")[0]}:\\\\s+(?<{var_.split(\":\")[0]}>[^\\\\r\\\\n]+))\"\n",
    "    if line == (count):\n",
    "        continue\n",
    "    else:\n",
    "        pattern_ += \"(?:\\\\r?\\\\n)\""
   ]
  },
  {
   "cell_type": "code",
   "execution_count": 59,
   "id": "12713c04",
   "metadata": {},
   "outputs": [
    {
     "name": "stdout",
     "output_type": "stream",
     "text": [
      "Sysmon config state changed:(?:\\r?\\n)(?:UtcTime:\\s+(?<UtcTime>[^\\r\\n]+))(?:\\r?\\n)(?:Configuration:\\s+(?<Configuration>[^\\r\\n]+))(?:\\r?\\n)(?:ConfigurationFileHash:\\s+(?<ConfigurationFileHash>[^\\r\\n]+))\n"
     ]
    }
   ],
   "source": [
    "print(pattern_)"
   ]
  },
  {
   "cell_type": "code",
   "execution_count": 60,
   "id": "4fdc2fda",
   "metadata": {},
   "outputs": [
    {
     "name": "stdout",
     "output_type": "stream",
     "text": [
      "Sysmon config state changed:\n",
      "UtcTime: 2025-09-07 08:07:09.988\n",
      "Configuration: C:\\Users\\Sec User\\Downloads\\Sysmon\\sysmonconfig-export.xml\n",
      "ConfigurationFileHash: SHA256=055FEBC600E6D7448CDF3812307275912927A62B1F94D0D933B64B294BC87162\n"
     ]
    }
   ],
   "source": [
    "print(log_)"
   ]
  },
  {
   "cell_type": "code",
   "execution_count": null,
   "id": "f738cc19",
   "metadata": {},
   "outputs": [],
   "source": []
  }
 ],
 "metadata": {
  "kernelspec": {
   "display_name": "Python 3",
   "language": "python",
   "name": "python3"
  },
  "language_info": {
   "codemirror_mode": {
    "name": "ipython",
    "version": 3
   },
   "file_extension": ".py",
   "mimetype": "text/x-python",
   "name": "python",
   "nbconvert_exporter": "python",
   "pygments_lexer": "ipython3",
   "version": "3.12.2"
  }
 },
 "nbformat": 4,
 "nbformat_minor": 5
}
