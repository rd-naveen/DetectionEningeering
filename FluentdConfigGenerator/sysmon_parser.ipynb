{
 "cells": [
  {
   "cell_type": "code",
   "execution_count": null,
   "id": "08f84930",
   "metadata": {},
   "outputs": [],
   "source": [
    "log_= \"\"\"Sysmon config state changed:\\r\\nUtcTime: 2025-09-07 08:07:09.988\\r\\nConfiguration: C:\\\\Users\\\\Sec User\\\\Downloads\\\\Sysmon\\\\sysmonconfig-export.xml\\r\\nConfigurationFileHash: SHA256=055FEBC600E6D7448CDF3812307275912927A62B1F94D0D933B64B294BC87162\"\"\""
   ]
  },
  {
   "cell_type": "code",
   "execution_count": 53,
   "id": "9b894801",
   "metadata": {},
   "outputs": [],
   "source": [
    "line = 0\n",
    "pattern_ = \"\"\n",
    "count = len(log_.split(\"\\r\\n\"))\n",
    "for var_ in log_.split(\"\\r\\n\"):\n",
    "    line +=1\n",
    "    if line == \"\":\n",
    "        continue\n",
    "    if line == 1:\n",
    "        pattern_ += f\"{var_}(?:\\\\r?\\\\n)\"\n",
    "        continue\n",
    "    pattern_ += f\"(?:{var_.split(\":\")[0]}:\\\\s+(?<{var_.split(\":\")[0]}>[^\\\\r\\\\n]+))\"\n",
    "    if line == (count):\n",
    "        continue\n",
    "    else:\n",
    "        pattern_ += \"(?:\\\\r?\\\\n)\""
   ]
  },
  {
   "cell_type": "code",
   "execution_count": 55,
   "id": "12713c04",
   "metadata": {},
   "outputs": [
    {
     "name": "stdout",
     "output_type": "stream",
     "text": [
      "Process Create:\n",
      "RuleName: %1!s!\n",
      "UtcTime: %2!s!\n",
      "ProcessGuid: %3!s!\n",
      "ProcessId: %4!s!\n",
      "Image: %5!s!\n",
      "FileVersion: %6!s!\n",
      "Description: %7!s!\n",
      "Product: %8!s!\n",
      "Company: %9!s!\n",
      "OriginalFileName: %10!s!\n",
      "CommandLine: %11!s!\n",
      "CurrentDirectory: %12!s!\n",
      "User: %13!s!\n",
      "LogonGuid: %14!s!\n",
      "LogonId: %15!s!\n",
      "TerminalSessionId: %16!s!\n",
      "IntegrityLevel: %17!s!\n",
      "Hashes: %18!s!\n",
      "ParentProcessGuid: %19!s!\n",
      "ParentProcessId: %20!s!\n",
      "ParentImage: %21!s!\n",
      "ParentCommandLine: %22!s!\n",
      "ParentUser: %23!s!(?:\\r?\\n)\n"
     ]
    }
   ],
   "source": [
    "print(pattern_)"
   ]
  },
  {
   "cell_type": "code",
   "execution_count": 56,
   "id": "4fdc2fda",
   "metadata": {},
   "outputs": [
    {
     "name": "stdout",
     "output_type": "stream",
     "text": [
      "Process Create:\n",
      "RuleName: %1!s!\n",
      "UtcTime: %2!s!\n",
      "ProcessGuid: %3!s!\n",
      "ProcessId: %4!s!\n",
      "Image: %5!s!\n",
      "FileVersion: %6!s!\n",
      "Description: %7!s!\n",
      "Product: %8!s!\n",
      "Company: %9!s!\n",
      "OriginalFileName: %10!s!\n",
      "CommandLine: %11!s!\n",
      "CurrentDirectory: %12!s!\n",
      "User: %13!s!\n",
      "LogonGuid: %14!s!\n",
      "LogonId: %15!s!\n",
      "TerminalSessionId: %16!s!\n",
      "IntegrityLevel: %17!s!\n",
      "Hashes: %18!s!\n",
      "ParentProcessGuid: %19!s!\n",
      "ParentProcessId: %20!s!\n",
      "ParentImage: %21!s!\n",
      "ParentCommandLine: %22!s!\n",
      "ParentUser: %23!s!\n"
     ]
    }
   ],
   "source": [
    "print(log_)"
   ]
  },
  {
   "cell_type": "code",
   "execution_count": null,
   "id": "f738cc19",
   "metadata": {},
   "outputs": [],
   "source": []
  }
 ],
 "metadata": {
  "kernelspec": {
   "display_name": "Python 3",
   "language": "python",
   "name": "python3"
  },
  "language_info": {
   "codemirror_mode": {
    "name": "ipython",
    "version": 3
   },
   "file_extension": ".py",
   "mimetype": "text/x-python",
   "name": "python",
   "nbconvert_exporter": "python",
   "pygments_lexer": "ipython3",
   "version": "3.12.2"
  }
 },
 "nbformat": 4,
 "nbformat_minor": 5
}
