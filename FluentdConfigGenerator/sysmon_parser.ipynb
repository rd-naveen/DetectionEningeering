{
 "cells": [
  {
   "cell_type": "code",
   "execution_count": 10,
   "id": "08f84930",
   "metadata": {},
   "outputs": [],
   "source": [
    "log_= \"\"\"CreateRemoteThread detected:\\r\\nRuleName: -\\r\\nUtcTime: 2025-09-06 17:09:04.857\\r\\nSourceProcessGuid: {b2a55edd-95cb-68b5-6107-000000000800}\\r\\nSourceProcessId: 5156\\r\\nSourceImage: C:\\\\Windows\\\\System32\\\\dwm.exe\\r\\nTargetProcessGuid: {b2a55edd-95cb-68b5-5e07-000000000800}\\r\\nTargetProcessId: 2132\\r\\nTargetImage: C:\\\\Windows\\\\System32\\\\csrss.exe\\r\\nNewThreadId: 15384\\r\\nStartAddress: 0xFFFFF80059D97EC0\\r\\nStartModule: -\\r\\nStartFunction: -\\r\\nSourceUser: Window Manager\\\\DWM-2\\r\\nTargetUser: NT AUTHORITY\\\\SYSTEM\"\"\""
   ]
  },
  {
   "cell_type": "code",
   "execution_count": 11,
   "id": "9b894801",
   "metadata": {},
   "outputs": [],
   "source": [
    "line = 0\n",
    "pattern_ = \"\"\n",
    "count = len(log_.split(\"\\r\\n\"))\n",
    "for var_ in log_.split(\"\\r\\n\"):\n",
    "    line +=1\n",
    "    if line == \"\":\n",
    "        continue\n",
    "    if line == 1:\n",
    "        pattern_ += f\"{var_}(?:\\\\r?\\\\n)\"\n",
    "        continue\n",
    "    pattern_ += f\"(?:{var_.split(\":\")[0]}:\\\\s+(?<{var_.split(\":\")[0]}>[^\\\\r\\\\n]+))\"\n",
    "    if line == (count):\n",
    "        continue\n",
    "    else:\n",
    "        pattern_ += \"(?:\\\\r?\\\\n)\""
   ]
  },
  {
   "cell_type": "code",
   "execution_count": 12,
   "id": "12713c04",
   "metadata": {},
   "outputs": [
    {
     "name": "stdout",
     "output_type": "stream",
     "text": [
      "CreateRemoteThread detected:(?:\\r?\\n)(?:RuleName:\\s+(?<RuleName>[^\\r\\n]+))(?:\\r?\\n)(?:UtcTime:\\s+(?<UtcTime>[^\\r\\n]+))(?:\\r?\\n)(?:SourceProcessGuid:\\s+(?<SourceProcessGuid>[^\\r\\n]+))(?:\\r?\\n)(?:SourceProcessId:\\s+(?<SourceProcessId>[^\\r\\n]+))(?:\\r?\\n)(?:SourceImage:\\s+(?<SourceImage>[^\\r\\n]+))(?:\\r?\\n)(?:TargetProcessGuid:\\s+(?<TargetProcessGuid>[^\\r\\n]+))(?:\\r?\\n)(?:TargetProcessId:\\s+(?<TargetProcessId>[^\\r\\n]+))(?:\\r?\\n)(?:TargetImage:\\s+(?<TargetImage>[^\\r\\n]+))(?:\\r?\\n)(?:NewThreadId:\\s+(?<NewThreadId>[^\\r\\n]+))(?:\\r?\\n)(?:StartAddress:\\s+(?<StartAddress>[^\\r\\n]+))(?:\\r?\\n)(?:StartModule:\\s+(?<StartModule>[^\\r\\n]+))(?:\\r?\\n)(?:StartFunction:\\s+(?<StartFunction>[^\\r\\n]+))(?:\\r?\\n)(?:SourceUser:\\s+(?<SourceUser>[^\\r\\n]+))(?:\\r?\\n)(?:TargetUser:\\s+(?<TargetUser>[^\\r\\n]+))\n"
     ]
    }
   ],
   "source": [
    "print(pattern_)"
   ]
  },
  {
   "cell_type": "code",
   "execution_count": 14,
   "id": "4fdc2fda",
   "metadata": {},
   "outputs": [
    {
     "name": "stdout",
     "output_type": "stream",
     "text": [
      "CreateRemoteThread detected:\n",
      "RuleName: -\n",
      "UtcTime: 2025-09-06 17:09:04.857\n",
      "SourceProcessGuid: {b2a55edd-95cb-68b5-6107-000000000800}\n",
      "SourceProcessId: 5156\n",
      "SourceImage: C:\\Windows\\System32\\dwm.exe\n",
      "TargetProcessGuid: {b2a55edd-95cb-68b5-5e07-000000000800}\n",
      "TargetProcessId: 2132\n",
      "TargetImage: C:\\Windows\\System32\\csrss.exe\n",
      "NewThreadId: 15384\n",
      "StartAddress: 0xFFFFF80059D97EC0\n",
      "StartModule: -\n",
      "StartFunction: -\n",
      "SourceUser: Window Manager\\DWM-2\n",
      "TargetUser: NT AUTHORITY\\SYSTEM\n"
     ]
    }
   ],
   "source": [
    "print(log_)"
   ]
  },
  {
   "cell_type": "code",
   "execution_count": null,
   "id": "f738cc19",
   "metadata": {},
   "outputs": [],
   "source": []
  }
 ],
 "metadata": {
  "kernelspec": {
   "display_name": "Python 3",
   "language": "python",
   "name": "python3"
  },
  "language_info": {
   "codemirror_mode": {
    "name": "ipython",
    "version": 3
   },
   "file_extension": ".py",
   "mimetype": "text/x-python",
   "name": "python",
   "nbconvert_exporter": "python",
   "pygments_lexer": "ipython3",
   "version": "3.12.2"
  }
 },
 "nbformat": 4,
 "nbformat_minor": 5
}
